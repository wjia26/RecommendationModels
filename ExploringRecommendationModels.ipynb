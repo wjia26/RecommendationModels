{
 "cells": [
  {
   "cell_type": "markdown",
   "metadata": {},
   "source": [
    "## Exploring Recommendation Models\n",
    "In this notebook I explore different Recommendation Models as covered by this outstanding [course](https://www.youtube.com/playlist?list=PLLssT5z_DsK9JDLcT8T62VtzwyW9LNepV) \n",
    "Watching Lectures 41-47 will give you a good technical background of how these recommendation algorithms work and how they pertain to optimizing recommendations for users.\n",
    "\n",
    "Algorithms covered:\n",
    "1. Content-based Filtering\n",
    "2. Collaborative Filtering\n",
    "3. Latent Factorization (i.e. Matrix Factorization)\n",
    "\n",
    "We will be using the MovieLens 100k dataset and using the Surprise package for inference.\n",
    "After which will give us some intuition around how long these algorithms take to run and the performance.\n",
    "Then we can start building our own from scratch."
   ]
  },
  {
   "cell_type": "code",
   "execution_count": 14,
   "metadata": {},
   "outputs": [],
   "source": [
    "from surprise import BaselineOnly\n",
    "from surprise import Dataset\n",
    "from surprise import Reader\n",
    "from surprise.model_selection import cross_validate\n",
    "import os\n",
    "\n",
    "\n",
    "# path to dataset file\n",
    "file_path = os.path.expanduser('ml-100k/u.data')\n",
    "\n",
    "# As we're loading a custom dataset, we need to define a reader. In the\n",
    "# movielens-100k dataset, each line has the following format:\n",
    "# 'user item rating timestamp', separated by '\\t' characters.\n",
    "reader = Reader(line_format='user item rating timestamp', sep='\\t')\n",
    "\n",
    "data = Dataset.load_from_file(file_path, reader=reader)\n"
   ]
  },
  {
   "cell_type": "code",
   "execution_count": 18,
   "metadata": {},
   "outputs": [],
   "source": [
    "import pandas as pd\n",
    "# pass in column names for each CSV\n",
    "u_cols = ['user_id', 'age', 'sex', 'occupation', 'zip_code']\n",
    "users = pd.read_csv('ml-100k/u.user', sep='|', names=u_cols,\n",
    "                    encoding='latin-1')\n",
    "\n",
    "r_cols = ['user_id', 'movie_id', 'rating', 'unix_timestamp']\n",
    "ratings = pd.read_csv('ml-100k/u.data', sep='\\t', names=r_cols,\n",
    "                      encoding='latin-1')\n",
    "\n",
    "# the movies file contains columns indicating the movie's genres\n",
    "# let's only load the first five columns of the file with usecols\n",
    "m_cols = ['movie_id', 'title', 'release_date', 'video_release_date', 'imdb_url']\n",
    "movies = pd.read_csv('ml-100k/u.item', sep='|', names=m_cols, usecols=range(5),\n",
    "                     encoding='latin-1')\n",
    "\n",
    "# create one merged DataFrame\n",
    "movie_ratings = pd.merge(movies, ratings)\n",
    "lens = pd.merge(movie_ratings, users)"
   ]
  },
  {
   "cell_type": "code",
   "execution_count": 20,
   "metadata": {},
   "outputs": [
    {
     "name": "stdout",
     "output_type": "stream",
     "text": [
      "   movie_id                  title release_date  video_release_date  \\\n",
      "0         1       Toy Story (1995)  01-Jan-1995                 NaN   \n",
      "1         4      Get Shorty (1995)  01-Jan-1995                 NaN   \n",
      "2         5         Copycat (1995)  01-Jan-1995                 NaN   \n",
      "3         7  Twelve Monkeys (1995)  01-Jan-1995                 NaN   \n",
      "4         8            Babe (1995)  01-Jan-1995                 NaN   \n",
      "\n",
      "                                            imdb_url  user_id  rating  \\\n",
      "0  http://us.imdb.com/M/title-exact?Toy%20Story%2...      308       4   \n",
      "1  http://us.imdb.com/M/title-exact?Get%20Shorty%...      308       5   \n",
      "2  http://us.imdb.com/M/title-exact?Copycat%20(1995)      308       4   \n",
      "3  http://us.imdb.com/M/title-exact?Twelve%20Monk...      308       4   \n",
      "4     http://us.imdb.com/M/title-exact?Babe%20(1995)      308       5   \n",
      "\n",
      "   unix_timestamp  age sex occupation zip_code  \n",
      "0       887736532   60   M    retired    95076  \n",
      "1       887737890   60   M    retired    95076  \n",
      "2       887739608   60   M    retired    95076  \n",
      "3       887738847   60   M    retired    95076  \n",
      "4       887736696   60   M    retired    95076  \n"
     ]
    }
   ],
   "source": [
    "print(lens.head(5))"
   ]
  },
  {
   "cell_type": "code",
   "execution_count": null,
   "metadata": {},
   "outputs": [],
   "source": [
    "## SVD\n",
    "# Use the famous SVD algorithm.\n",
    "algo = SVD()\n",
    "\n",
    "# Run 5-fold cross-validation and print results.\n",
    "cross_validate(algo, data, measures=['RMSE', 'MAE'], cv=5, verbose=True)"
   ]
  }
 ],
 "metadata": {
  "kernelspec": {
   "display_name": "Python 3",
   "language": "python",
   "name": "python3"
  },
  "language_info": {
   "codemirror_mode": {
    "name": "ipython",
    "version": 3
   },
   "file_extension": ".py",
   "mimetype": "text/x-python",
   "name": "python",
   "nbconvert_exporter": "python",
   "pygments_lexer": "ipython3",
   "version": "3.8.3"
  }
 },
 "nbformat": 4,
 "nbformat_minor": 4
}
